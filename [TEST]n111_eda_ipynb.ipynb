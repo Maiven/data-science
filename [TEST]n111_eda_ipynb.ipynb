{
  "nbformat": 4,
  "nbformat_minor": 0,
  "metadata": {
    "colab": {
      "name": "n111-eda.ipynb의 사본",
      "provenance": [],
      "collapsed_sections": [],
      "include_colab_link": true
    },
    "kernelspec": {
      "display_name": "Python 3",
      "language": "python",
      "name": "python3"
    },
    "language_info": {
      "codemirror_mode": {
        "name": "ipython",
        "version": 3
      },
      "file_extension": ".py",
      "mimetype": "text/x-python",
      "name": "python",
      "nbconvert_exporter": "python",
      "pygments_lexer": "ipython3",
      "version": "3.8.5"
    }
  },
  "cells": [
    {
      "cell_type": "markdown",
      "metadata": {
        "id": "view-in-github",
        "colab_type": "text"
      },
      "source": [
        "<a href=\"https://colab.research.google.com/github/Maiven/data-science/blob/main/%5BTEST%5Dn111_eda_ipynb.ipynb\" target=\"_parent\"><img src=\"https://colab.research.google.com/assets/colab-badge.svg\" alt=\"Open In Colab\"/></a>"
      ]
    },
    {
      "cell_type": "markdown",
      "metadata": {
        "id": "Ldr0HZ193GKb"
      },
      "source": [
        "<img src='https://i.imgur.com/RDAD11M.png' width = '200' align = 'right'>\n",
        "\n",
        "## *DATA SCIENCE / SECTION 1 / SPRINT 1 / NOTE 1*\n",
        "\n",
        "---\n",
        "\n",
        "# Exploratory Data Analysis\n",
        "\n",
        "## 🏆 학습 목표 \n",
        "\n",
        "- github 를 통해서 과제를 제출할 수 있다. ( GitHub에 작업물 저장도 포함 )\n",
        "- `pandas.read_csv()`를 사용하여 url 혹은 로컬 파일로부터, csv 형태의 dataset을 작업공간에 불러 올 수 있다.\n",
        "- `pandas.describe`, `pandas.isnull()`, `pandas.value_counts()`, `pandas.crosstab()`과 같은 기초 EDA 함수를 사용 할 수 있다.\n",
        "- pandas 를 사용하여, `line plot`, `histogram`, `scatter plot`, `density plot`등의 기본 시각화를 사용 할 수 있다.\n",
        "\n",
        "## ❓ 시작하기전에\n",
        "\n",
        "- 데이터 분석에서 자주 쓰이는, `csv` 형태란 무엇일까요?\n",
        "- 버전 관리란 무엇일까요\n",
        "---"
      ]
    },
    {
      "cell_type": "markdown",
      "metadata": {
        "id": "FnOWk3zMOuqz"
      },
      "source": [
        "# github에 .ipynb 파일 (Colab Notebook) 저장"
      ]
    },
    {
      "cell_type": "markdown",
      "metadata": {
        "id": "fCryOFLnm_vc"
      },
      "source": [
        "## 개요\n",
        "\n",
        "[누구나 쉽게 이해할 수 있는 Git 입문](https://backlog.com/git-tutorial/kr/intro/intro1_1.html)\n",
        "\n",
        "github은, 여러분의 작업 코드나 다른 파일들을 개인적인 목적 혹은 다른 사람과 공유하는 목적으로 저장할 수 있는 **웹사이트**입니다. \n",
        "\n",
        "기본적으로, \"오픈소스\" 프로젝트 파일을 저장하여, 여러 사용자들이 함께 코드작업을 할 수 있게 하는 것이 목적입니다. \n",
        "\n",
        "여러분은 github를 통해 다른 수강생과 혹은 앞으로 커리어를 진행함에 있어서 여러 프로젝트를 공동작업하게 될 것입니다.\n",
        "\n",
        "이에 익숙해지는 것을 목적으로, 모든 과제 제출 프로세스는 github를 통해서 진행 될 것입니다. \n",
        "\n",
        "<img src='https://i.imgur.com/IV7UGC0.png' width = '500'>\n"
      ]
    },
    {
      "cell_type": "markdown",
      "metadata": {
        "id": "M8moDKv-Tg63"
      },
      "source": [
        "### 1) repository를 fork하기,\n",
        "\n",
        "다음 링크로 가세요 <https://github.com/codestates>\n",
        "\n",
        "- \"repository\"란, github에서 특정 파일을 저장하는 폴더를 뜻하는 단어로, 사람에 따라서 \"리포\"(\"repo\")로 부르기도 합니다.\n",
        "\n",
        "**매 스프린트의 시작시, 해당 스프린트의 repo를 찾아 여러분 개인의 github 계정으로 \"fork\"해야 합니다.** \n",
        "\n",
        "저장소를 \"fork\" 한다는 것은 폴더와 파일들은 개인의 github repo로 복사하는 것을 의미 합니다. 여러분은 복사(fork)한 버전의 내용을 바탕으로 작업한 뒤, 각자의 계정에 저장해야 합니다.   \n",
        "\n",
        "여러분이 저장소를 포크하는데 성공한 경우, 책이 복사 되는 것과 비슷한 애니메이션이 나타난 뒤, \n",
        "\n",
        "복사 된 저장소로 리다이렉트 될 것 입니다.\n",
        "\n",
        "또한, 저장소의 파일 경로 옆의 사용자 이름 (username)이 여러분의 gitHub 계정과 동일한 것으로도 확인 할 수 있습니다:\n",
        "\n",
        "---\n"
      ]
    },
    {
      "cell_type": "markdown",
      "metadata": {
        "id": "DHgG8kFqYAz0"
      },
      "source": [
        "### 2) 파일을 열고, 수정을 하세요.\n",
        "\n",
        "여러분이 처음 작업 할 파일은, \"IPython NoteBook\"을 의미하는 .ipynb라는 확장자를 갖는 노트북 파일이며, 이는 구글 코랩 (Google Colab) 을 통해서도 열 수 있습니다.\n",
        "\n",
        "🔥 다른 방법으로 jupyter notebook을 사용 할 수 있습니다.\n",
        "\n",
        "코랩에서, 이러한 노트북을 작업 하기 위해서는 아래의 주소로 가야 합니다: \n",
        "\n",
        "<https://colab.research.google.com/github/> \n",
        "\n",
        "이전에 코랩 작업을 해 본 적이 없다면, 구글에 여러분의 gitHub 계정으로 접속 할 수 있는 권한을 주어야 합니다.\n",
        "\n",
        "필요한 권한들이 허용 되고 난 뒤에, 드롭다운 메뉴를 통해 저장소를 선택하세요. \n",
        "\n",
        "선택이 되고 나면, 코랩은 해당 디렉토리에 있는 모든 .ipynb 파일을 확인한 뒤 노트북의 목록을 보여줄 것입니다.\n",
        "\n",
        "---\n",
        "\n",
        "\n",
        "만약 노트북 링크를 여는것이 불편 할 경우, chrome 익스텐션을 통해서 GitHub의 .ipynb파일을 쉽게 열 수도 있습니다:\n",
        "\n",
        "- [chrome 익스텐션](https://chrome.google.com/webstore/detail/open-in-colab/iogfkhleblhcpcekbiedikdehleodpjo?hl=en)"
      ]
    },
    {
      "cell_type": "markdown",
      "metadata": {
        "id": "OdRobgtWZrex"
      },
      "source": [
        "### 3) 수정한 내용을 포크한 GitHub 저장소에 저장합시다.\n",
        "\n",
        "노트북에 수정 작업을 마친 이후, 메뉴의 `파일` >> `GitHub에 사본 저장`을 통해 GitHub에 이를 저장 할 수 있습니다. \n",
        "\n",
        "저장이 성공적으로 완료 된 경우, 브라우저의 새 탭을 통해 GitHub의 저장된 파일을 확인 할 수 있습니다.   \n",
        "\n",
        "---\n",
        "\n"
      ]
    },
    {
      "cell_type": "markdown",
      "metadata": {
        "id": "z_EX6QN9babi"
      },
      "source": [
        "### 4) 작업물에 대한 \"Pull Request\"를 제출 하세요.\n",
        "\n",
        "작업물 제출의 마지막 단계는 \"Pull Request\" (풀 리퀘, PR)를 생성하는 것입니다. 이는 여러분의 포크된 저장소와 원본 저장소에 대해서 파일 변화가 없는 경우에는 허용 되지 않습니다. \n",
        "\n",
        "PR은 여러분이 했던 작업을 원본 Codestates 저장소에 반영 하는 것 뿐만 아니라, 팀원들이 작업 내용을 쉽게 확인 할 수 있도록 합니다.\n",
        "\n",
        "PR을 생성하기 위해서, 여러분의 저장소에서 \"Pull Request\"를 선택하십시오. \n",
        "\n",
        "이후, 녹색의 \"New Pull Request\" 버튼을 클릭하고 제목과 내용을 작성하여 PR 생성을 진행하세요. \n",
        "\n",
        "이 때 여러분의 이름 등을 같이 작성해야 여러분의 팀이 여러분의 PR 내용을 구분 할 수 있습니다. \n",
        "\n",
        "내용 작성이 완료 된 이후에는 나머지 녹색 버튼을 눌러 PR 생성을 완료하십시오."
      ]
    },
    {
      "cell_type": "markdown",
      "metadata": {
        "id": "v1KNmIgQdbOo"
      },
      "source": [
        "### 요약\n",
        "\n",
        "1) 저장소 포크 \n",
        "\n",
        "2) 코랩에서 저장소를 열고, 과제 파일을 작업\n",
        "\n",
        "3) 작업 내용을 GitHub에 저장\n",
        "\n",
        "4) 과제의 기한 안에 PR을 작성하여, 내용을 다른 사람들이 확인 할 수 있도록 함"
      ]
    },
    {
      "cell_type": "markdown",
      "metadata": {
        "id": "QszuYn1bnZSe"
      },
      "source": [
        "#  URL로 부터 데이터셋 불러오기 (CSV)"
      ]
    },
    {
      "cell_type": "markdown",
      "metadata": {
        "id": "_7uhS1HHOaR-"
      },
      "source": [
        "## 개요\n",
        "\n",
        "url 혹은 로컬 파일로 부터 colab에 데이터셋 불러오기를 연습하기 위해서, UCI의 [Flags 데이터셋](https://archive.ics.uci.edu/ml/datasets/Flags)을 사용 할 것입니다. \n",
        "\n",
        "데이터셋을 불러오기 위한 단계:\n",
        "\n",
        "1) 데이터셋에 대한 정보를 파악합니다\n",
        "- 행과 열의 수\n",
        "- 열에 헤더가 있는지 (\"데이터 이름\"이 있는지?)\n",
        "- 결측 데이터 (Missing data)가 있는지 확인 \n",
        "- **원본 파일을 열어 보기, 여러분이 기대하는 형태로 데이터가 구성되지 않을 수도 있습니다.**\n",
        "\n",
        "### ❓ 데이터셋 정보 파악을 불러오기 전에 해야하는 이유는 무엇일까요? \n",
        "\n",
        "- [pandas read_csv manual](https://pandas.pydata.org/pandas-docs/stable/reference/api/pandas.read_csv.html)\n",
        "\n",
        "\n",
        "2) `pandas.read_csv()`를 사용하여 데이터셋 불러오기를 시도하고, 오류가 있다면 원인에 대해 조사하기\n",
        "\n",
        "- 원본 데이터셋에 따라서 때로는 행의 헤더 부분을 직접 입력 해야 할 수도 있습니다. "
      ]
    },
    {
      "cell_type": "markdown",
      "metadata": {
        "id": "vZobh57ag1S9"
      },
      "source": [
        "### 데이터셋과 원본 파일을 보는 방법. (Colab 에서)\n",
        "\n",
        "❓ 개인적으로는 권장하지 않습니다. 그 이유는 무엇일까요? "
      ]
    },
    {
      "cell_type": "code",
      "metadata": {
        "id": "sYypbXovgaSi"
      },
      "source": [
        "# 실제 다운로드 할 파일을 찾습니다.\n",
        "# \"Data Folder\"의\n",
        "# 데이터셋의 링크를 우클릭 한 뒤 \"링크 주소 복사\"를 합니다.\n",
        "\n",
        "flag_data_url = 'https://archive.ics.uci.edu/ml/machine-learning-databases/flags/flag.data'\n",
        "\n",
        "# csv와 유사한, .data라는 확장자를 갖는 파일의 예시입니다. \n",
        "# !curl https://archive.ics.uci.edu/ml/machine-learning-databases/flags/flag.data\n",
        "\n",
        "# 확장자는 단순히 표현의 방법이기 때문에, 결국 여러분은 데이터를 직접 조사해야 합니다."
      ],
      "execution_count": null,
      "outputs": []
    },
    {
      "cell_type": "markdown",
      "metadata": {
        "id": "KncohxMIg5Dq"
      },
      "source": [
        "### URL을 통해서 불러오기"
      ]
    },
    {
      "cell_type": "code",
      "metadata": {
        "id": "-r24OTvggWub",
        "outputId": "f4518a8d-5e65-40e0-a837-984c94bd430b"
      },
      "source": [
        "# Flags 데이터셋을 URL로 부터 불러옵니다:\n",
        "\n",
        "import pandas as pd\n",
        "\n",
        "df = pd.read_csv(flag_data_url)\n",
        "\n",
        "# pip3 install pandas \n",
        "\n",
        "df.head() "
      ],
      "execution_count": null,
      "outputs": [
        {
          "output_type": "execute_result",
          "data": {
            "text/html": [
              "<div>\n",
              "<style scoped>\n",
              "    .dataframe tbody tr th:only-of-type {\n",
              "        vertical-align: middle;\n",
              "    }\n",
              "\n",
              "    .dataframe tbody tr th {\n",
              "        vertical-align: top;\n",
              "    }\n",
              "\n",
              "    .dataframe thead th {\n",
              "        text-align: right;\n",
              "    }\n",
              "</style>\n",
              "<table border=\"1\" class=\"dataframe\">\n",
              "  <thead>\n",
              "    <tr style=\"text-align: right;\">\n",
              "      <th></th>\n",
              "      <th>Afghanistan</th>\n",
              "      <th>5</th>\n",
              "      <th>1</th>\n",
              "      <th>648</th>\n",
              "      <th>16</th>\n",
              "      <th>10</th>\n",
              "      <th>2</th>\n",
              "      <th>0</th>\n",
              "      <th>3</th>\n",
              "      <th>5.1</th>\n",
              "      <th>...</th>\n",
              "      <th>0.5</th>\n",
              "      <th>0.6</th>\n",
              "      <th>1.6</th>\n",
              "      <th>0.7</th>\n",
              "      <th>0.8</th>\n",
              "      <th>1.7</th>\n",
              "      <th>0.9</th>\n",
              "      <th>0.10</th>\n",
              "      <th>black</th>\n",
              "      <th>green.1</th>\n",
              "    </tr>\n",
              "  </thead>\n",
              "  <tbody>\n",
              "    <tr>\n",
              "      <th>0</th>\n",
              "      <td>Albania</td>\n",
              "      <td>3</td>\n",
              "      <td>1</td>\n",
              "      <td>29</td>\n",
              "      <td>3</td>\n",
              "      <td>6</td>\n",
              "      <td>6</td>\n",
              "      <td>0</td>\n",
              "      <td>0</td>\n",
              "      <td>3</td>\n",
              "      <td>...</td>\n",
              "      <td>0</td>\n",
              "      <td>0</td>\n",
              "      <td>1</td>\n",
              "      <td>0</td>\n",
              "      <td>0</td>\n",
              "      <td>0</td>\n",
              "      <td>1</td>\n",
              "      <td>0</td>\n",
              "      <td>red</td>\n",
              "      <td>red</td>\n",
              "    </tr>\n",
              "    <tr>\n",
              "      <th>1</th>\n",
              "      <td>Algeria</td>\n",
              "      <td>4</td>\n",
              "      <td>1</td>\n",
              "      <td>2388</td>\n",
              "      <td>20</td>\n",
              "      <td>8</td>\n",
              "      <td>2</td>\n",
              "      <td>2</td>\n",
              "      <td>0</td>\n",
              "      <td>3</td>\n",
              "      <td>...</td>\n",
              "      <td>0</td>\n",
              "      <td>0</td>\n",
              "      <td>1</td>\n",
              "      <td>1</td>\n",
              "      <td>0</td>\n",
              "      <td>0</td>\n",
              "      <td>0</td>\n",
              "      <td>0</td>\n",
              "      <td>green</td>\n",
              "      <td>white</td>\n",
              "    </tr>\n",
              "    <tr>\n",
              "      <th>2</th>\n",
              "      <td>American-Samoa</td>\n",
              "      <td>6</td>\n",
              "      <td>3</td>\n",
              "      <td>0</td>\n",
              "      <td>0</td>\n",
              "      <td>1</td>\n",
              "      <td>1</td>\n",
              "      <td>0</td>\n",
              "      <td>0</td>\n",
              "      <td>5</td>\n",
              "      <td>...</td>\n",
              "      <td>0</td>\n",
              "      <td>0</td>\n",
              "      <td>0</td>\n",
              "      <td>0</td>\n",
              "      <td>1</td>\n",
              "      <td>1</td>\n",
              "      <td>1</td>\n",
              "      <td>0</td>\n",
              "      <td>blue</td>\n",
              "      <td>red</td>\n",
              "    </tr>\n",
              "    <tr>\n",
              "      <th>3</th>\n",
              "      <td>Andorra</td>\n",
              "      <td>3</td>\n",
              "      <td>1</td>\n",
              "      <td>0</td>\n",
              "      <td>0</td>\n",
              "      <td>6</td>\n",
              "      <td>0</td>\n",
              "      <td>3</td>\n",
              "      <td>0</td>\n",
              "      <td>3</td>\n",
              "      <td>...</td>\n",
              "      <td>0</td>\n",
              "      <td>0</td>\n",
              "      <td>0</td>\n",
              "      <td>0</td>\n",
              "      <td>0</td>\n",
              "      <td>0</td>\n",
              "      <td>0</td>\n",
              "      <td>0</td>\n",
              "      <td>blue</td>\n",
              "      <td>red</td>\n",
              "    </tr>\n",
              "    <tr>\n",
              "      <th>4</th>\n",
              "      <td>Angola</td>\n",
              "      <td>4</td>\n",
              "      <td>2</td>\n",
              "      <td>1247</td>\n",
              "      <td>7</td>\n",
              "      <td>10</td>\n",
              "      <td>5</td>\n",
              "      <td>0</td>\n",
              "      <td>2</td>\n",
              "      <td>3</td>\n",
              "      <td>...</td>\n",
              "      <td>0</td>\n",
              "      <td>0</td>\n",
              "      <td>1</td>\n",
              "      <td>0</td>\n",
              "      <td>0</td>\n",
              "      <td>1</td>\n",
              "      <td>0</td>\n",
              "      <td>0</td>\n",
              "      <td>red</td>\n",
              "      <td>black</td>\n",
              "    </tr>\n",
              "  </tbody>\n",
              "</table>\n",
              "<p>5 rows × 30 columns</p>\n",
              "</div>"
            ],
            "text/plain": [
              "      Afghanistan  5  1   648  16  10  2  0  3  5.1  ...  0.5  0.6  1.6  0.7  \\\n",
              "0         Albania  3  1    29   3   6  6  0  0    3  ...    0    0    1    0   \n",
              "1         Algeria  4  1  2388  20   8  2  2  0    3  ...    0    0    1    1   \n",
              "2  American-Samoa  6  3     0   0   1  1  0  0    5  ...    0    0    0    0   \n",
              "3         Andorra  3  1     0   0   6  0  3  0    3  ...    0    0    0    0   \n",
              "4          Angola  4  2  1247   7  10  5  0  2    3  ...    0    0    1    0   \n",
              "\n",
              "   0.8  1.7  0.9 0.10  black  green.1  \n",
              "0    0    0    1    0    red      red  \n",
              "1    0    0    0    0  green    white  \n",
              "2    1    1    1    0   blue      red  \n",
              "3    0    0    0    0   blue      red  \n",
              "4    0    1    0    0    red    black  \n",
              "\n",
              "[5 rows x 30 columns]"
            ]
          },
          "metadata": {
            "tags": []
          },
          "execution_count": 3
        }
      ]
    },
    {
      "cell_type": "markdown",
      "metadata": {
        "id": "1hI3GvRgg818"
      },
      "source": [
        "### ❓ 문제가 생긴 경우, 왜 그런지에 대해서 확인해야 합니다. "
      ]
    },
    {
      "cell_type": "code",
      "metadata": {
        "id": "8PK-Njl0hJxz"
      },
      "source": [
        "# notebook상에서 매뉴얼을 보는 방법입니다, 마찬가지로 별로 권장하지는 않습니다 : (help) \n",
        "\n",
        "help(pd.read_csv)"
      ],
      "execution_count": null,
      "outputs": []
    },
    {
      "cell_type": "markdown",
      "metadata": {
        "id": "xuX3bUdOhQ1S"
      },
      "source": [
        "### 다시 해봅시다"
      ]
    },
    {
      "cell_type": "code",
      "metadata": {
        "id": "AJfCoAg-hRzq",
        "outputId": "3c1bdccf-0f12-448e-caf1-4f826eb657f2"
      },
      "source": [
        "# 성공 할 때까지 계속 시도해보세요. \n",
        "# 만약 코드가 복잡하게 꼬인 경우 런타임을 재시작하는 것으로 해결 할 수 있습니다. \n",
        "column_headers = ['name', 'landmass', 'zone', 'area', 'population',\n",
        "                  'language', 'religion', 'bars', 'stripes', 'colours',\n",
        "                 'red', 'green', 'blue', 'gold', 'white',\n",
        "                  'black', 'orange', 'mainhue', 'circles', 'crosses',\n",
        "                  'saltires', 'quarters', 'sunstars', 'crescent', 'triangle',\n",
        "                  'icon', 'animate', 'text', 'topleft', 'botright']\n",
        "\n",
        "df = pd.read_csv(flag_data_url, names = column_headers)\n",
        "# df = pd.read_csv(flag_data_url, header = None)\n",
        "\n",
        "print(df.head())\n",
        "print(df.shape)\n",
        "\n",
        "#?pd.read_csv"
      ],
      "execution_count": null,
      "outputs": [
        {
          "output_type": "stream",
          "text": [
            "             name  landmass  zone  area  population  language  religion  bars  \\\n",
            "0     Afghanistan         5     1   648          16        10         2     0   \n",
            "1         Albania         3     1    29           3         6         6     0   \n",
            "2         Algeria         4     1  2388          20         8         2     2   \n",
            "3  American-Samoa         6     3     0           0         1         1     0   \n",
            "4         Andorra         3     1     0           0         6         0     3   \n",
            "\n",
            "   stripes  colours  ...  saltires  quarters  sunstars  crescent  triangle  \\\n",
            "0        3        5  ...         0         0         1         0         0   \n",
            "1        0        3  ...         0         0         1         0         0   \n",
            "2        0        3  ...         0         0         1         1         0   \n",
            "3        0        5  ...         0         0         0         0         1   \n",
            "4        0        3  ...         0         0         0         0         0   \n",
            "\n",
            "   icon  animate text  topleft  botright  \n",
            "0     1        0    0    black     green  \n",
            "1     0        1    0      red       red  \n",
            "2     0        0    0    green     white  \n",
            "3     1        1    0     blue       red  \n",
            "4     0        0    0     blue       red  \n",
            "\n",
            "[5 rows x 30 columns]\n",
            "(194, 30)\n"
          ],
          "name": "stdout"
        }
      ]
    },
    {
      "cell_type": "markdown",
      "metadata": {
        "id": "Hi71j4Y-Oj1q"
      },
      "source": [
        "# 로컬 파일로 부터 데이터셋 불러오기 (CSV)"
      ]
    },
    {
      "cell_type": "markdown",
      "metadata": {
        "id": "a2FqWlMhloY3"
      },
      "source": [
        "## 개요\n",
        "\n",
        "모든 데이터를 온라인에서 구할 수 있는 것은 아닙니다. \n",
        "\n",
        "이때는 로컬 머신 (사용중인 PC)로 부터 파일을 업로드 해야 합니다. \n",
        "\n",
        "colab은 이 과정이 다른 소프트웨어 (예를 들자면, Jupyter Notebook) 에 비해 복잡합니다. \n",
        "\n",
        "colab은 Google Drives를 파일 시스템으로 사용 하기 때문에 이를 파일 경로를 직접 사용 할 수는 없습니다, 대신 작업을 위해서 drive에 파일을 업로드 해야만 합니다. "
      ]
    },
    {
      "cell_type": "markdown",
      "metadata": {
        "id": "9ocDcrXWhceM"
      },
      "source": [
        "### 방법 1: 구글 코랩 파일 업로드 패키지\n",
        "\n",
        "❓ 이를 위해서 구글링 해야하는 것은 무엇일까요? "
      ]
    },
    {
      "cell_type": "code",
      "metadata": {
        "id": "_HQlN7vIhtZe",
        "outputId": "058f13db-6a28-4a9a-91a6-e1cff715d277"
      },
      "source": [
        "from google.colab import files\n",
        "uploaded = files.upload()"
      ],
      "execution_count": null,
      "outputs": [
        {
          "output_type": "error",
          "ename": "ModuleNotFoundError",
          "evalue": "No module named 'google'",
          "traceback": [
            "\u001b[0;31m---------------------------------------------------------------------------\u001b[0m",
            "\u001b[0;31mModuleNotFoundError\u001b[0m                       Traceback (most recent call last)",
            "\u001b[0;32m<ipython-input-6-21dc3c638f66>\u001b[0m in \u001b[0;36m<module>\u001b[0;34m\u001b[0m\n\u001b[0;32m----> 1\u001b[0;31m \u001b[0;32mfrom\u001b[0m \u001b[0mgoogle\u001b[0m\u001b[0;34m.\u001b[0m\u001b[0mcolab\u001b[0m \u001b[0;32mimport\u001b[0m \u001b[0mfiles\u001b[0m\u001b[0;34m\u001b[0m\u001b[0;34m\u001b[0m\u001b[0m\n\u001b[0m\u001b[1;32m      2\u001b[0m \u001b[0muploaded\u001b[0m \u001b[0;34m=\u001b[0m \u001b[0mfiles\u001b[0m\u001b[0;34m.\u001b[0m\u001b[0mupload\u001b[0m\u001b[0;34m(\u001b[0m\u001b[0;34m)\u001b[0m\u001b[0;34m\u001b[0m\u001b[0;34m\u001b[0m\u001b[0m\n",
            "\u001b[0;31mModuleNotFoundError\u001b[0m: No module named 'google'"
          ]
        }
      ]
    },
    {
      "cell_type": "markdown",
      "metadata": {
        "id": "sqmNtickhoP_"
      },
      "source": [
        "### 방법 2: GUI (Graphical User Interface) 사용"
      ]
    },
    {
      "cell_type": "code",
      "metadata": {
        "id": "SliGiU1zhbea"
      },
      "source": [
        "# df = pd.read.csv('adult (6).data') # after upload\n",
        "# print(df.shape)"
      ],
      "execution_count": null,
      "outputs": []
    },
    {
      "cell_type": "markdown",
      "metadata": {
        "id": "5iFyoAdDOoqu"
      },
      "source": [
        "# pandas를 사용한 기초 EDA (Exploratory Data Analysis)"
      ]
    },
    {
      "cell_type": "markdown",
      "metadata": {
        "id": "k9DobU7dqILL"
      },
      "source": [
        "## 개요\n",
        "\n",
        "- EDA (Exploratory Data Analysis)란, 데이터 분석에 있어서 매우 중요한, 초기 분석의 단계를 의미하며 패턴을 발견하거나, 데이터의 특이성을 확인하거나, 통계와 그래픽 혹은 시각적 표현을 통해서 가설을 검정하는 과정 등을 포함합니다. \n",
        "\n",
        "- EDA는 또한, 새로운 데이터 셋을 분석하려고 할때 많이 행해집니다. \n",
        "\n",
        "- 예를 들어, 데이터를 어떻게 다룰 것인지, 어떤 모델을 선택 할 것인지, 데이터 분석을 위해 어떤 접근을 하거나 부분을 나누는 것 같이 과학적 접근법 등을 모두 포함합니다.  \n"
      ]
    },
    {
      "cell_type": "markdown",
      "metadata": {
        "id": "iRBUyBOWog7X"
      },
      "source": [
        "다음을 통해 데이터셋의 어떤 정보를 얻을 수 있나요?\n",
        "\n",
        "- df.shape\n",
        "- df.head()\n",
        "- df.dtypes\n",
        "- df.describe()\n",
        " - Numeric\n",
        " - Non-Numeric\n",
        "- df['column'].value_counts()\n",
        "- df.isnull().sum()\n",
        "- df.fillna()\n",
        "- df.dropna()\n",
        "- df.drop()\n",
        "- pd.crosstab()"
      ]
    },
    {
      "cell_type": "markdown",
      "metadata": {
        "id": "9pQ5XKZMPA4b"
      },
      "source": [
        "# Pandas를 사용한 기초 visualization (graph)"
      ]
    },
    {
      "cell_type": "markdown",
      "metadata": {
        "id": "mUdn5YhXqe3m"
      },
      "source": [
        "## 개요\n",
        "\n",
        "EDA의 한가지 핵심요소는 주어진 데이터의 분포와 연관성을 이해하기 위해서, 시각화 하는 것입니다. \n",
        "\n",
        "사람의 뇌는 패턴 인식에 매우 뛰어난 \"기계\"이며, \"눈대중\"은 매우 효율적인 방법 중 하나입니다. \n",
        "\n",
        "이번 섹션에서는 데이터 이해를 돕기 위한 몇몇 \"탐색적 시각화\"(\"Exploratory Visualization\")를 간단히 알아 보겠습니다. \n",
        "\n",
        "더 자세한 내용은 note 4에서 다뤄질 예정입니다."
      ]
    },
    {
      "cell_type": "markdown",
      "metadata": {
        "id": "CE1OpSBpljcU"
      },
      "source": [
        "## 다음의 차트들을 생성해봅시다:\n",
        "\n",
        "- Line Plot \n",
        "- Histogram \n",
        "- Scatter Plot\n",
        "- Density Plot\n",
        "- Crosstabs (Contigency table)\n",
        "\n",
        "위와 같은 그림들이 데이터에 대해서 어떻게 다르게 표현 될까요?\n",
        "\n",
        "데이터의 분포를 시각화 하는것이 왜 중요할까요?"
      ]
    },
    {
      "cell_type": "code",
      "metadata": {
        "id": "cGU_UjFKpGsE"
      },
      "source": [
        "- 새로운 데이터셋을 사용합니다. \n",
        "\n",
        "- [The Adult Dataset](https://archive.ics.uci.edu/ml/datasets/adult)"
      ],
      "execution_count": null,
      "outputs": []
    },
    {
      "cell_type": "markdown",
      "metadata": {
        "id": "-cPyM8eLlIQB"
      },
      "source": [
        "### Line Plot"
      ]
    },
    {
      "cell_type": "code",
      "metadata": {
        "id": "vGXfTAyJlU4J"
      },
      "source": [
        "column_headers = [\n",
        "    'age', 'workclass', 'fnlwgt', 'education', 'education-num', \n",
        "    'marital-status', 'occupation', 'relationship', 'race', 'sex',\n",
        "    'capital-gain', 'capital-loss', 'hours-per-week', 'native-country', 'label'\n",
        "]\n",
        "\n",
        "df = pd.read_csv('https://archive.ics.uci.edu/ml/machine-learning-databases/adult/adult.data', names = column_headers)\n",
        "\n",
        "df\n",
        "# df['education-num'].plot();\n",
        "# df['education-num'].value_counts()\n",
        "# df['education-num'].value_counts().sort_index()\n",
        "# df['education-num'].value_counts().sort_index().plot();\n",
        "# flags['population'].plot()"
      ],
      "execution_count": null,
      "outputs": []
    },
    {
      "cell_type": "markdown",
      "metadata": {
        "id": "MvT2W_HulJuR"
      },
      "source": [
        "### Histogram"
      ]
    },
    {
      "cell_type": "code",
      "metadata": {
        "id": "GJg_yWrMlVRs"
      },
      "source": [
        "df['education-num'].hist(); # bins = 2, 3, 16"
      ],
      "execution_count": null,
      "outputs": []
    },
    {
      "cell_type": "markdown",
      "metadata": {
        "id": "P67iVO7ulK5J"
      },
      "source": [
        "### Scatter Plot\n"
      ]
    },
    {
      "cell_type": "code",
      "metadata": {
        "id": "Tz9J6YqnlV0j"
      },
      "source": [
        "df.plot.scatter('age', 'hours-per-week');"
      ],
      "execution_count": null,
      "outputs": []
    },
    {
      "cell_type": "markdown",
      "metadata": {
        "id": "O5Q6uv49lOOZ"
      },
      "source": [
        "### Density Plot - Kernel Density Estimate (KDE)"
      ]
    },
    {
      "cell_type": "code",
      "metadata": {
        "id": "MBpB3NqjlWc8"
      },
      "source": [
        "df['education-num'].plot.density();"
      ],
      "execution_count": null,
      "outputs": []
    },
    {
      "cell_type": "markdown",
      "metadata": {
        "id": "1vwTB_8ZlQHl"
      },
      "source": [
        "### Plotting using Crosstabs"
      ]
    },
    {
      "cell_type": "code",
      "metadata": {
        "id": "agnXxQNrlXFC"
      },
      "source": [
        "pd.crosstab(df['sex'], df['education-num'])\n",
        "# pd.crosstab(df['sex'], df['education-num']).plot()"
      ],
      "execution_count": null,
      "outputs": []
    },
    {
      "cell_type": "markdown",
      "metadata": {
        "id": "trZtxlPtASwI"
      },
      "source": [
        "# 요점정리\n",
        "\n",
        "상당히 많은 내용을 봤습니다. 물론 지금 당장은 내용이 버거울 수 있으나, 오늘이 마지막이 아니며 앞으로 코스 과정 동안 지속적으로 사용하기 때문에 점점 더 익숙하게 될 것입니다! \n",
        "\n",
        "새로운 운동 (테니스) 을 배우는 경우를 예로 들어 생각 해보면, 규칙을 설명하거나 듣는 것은 쉬운 일이 아닙니다. 한번 해보는게 더 빠르기 때문이죠. \n",
        "\n",
        "오리엔테이션의 내용도 당연히 중요하지만 앞으로의 코스 내용 또한 정말 정말 중요합니다.\n",
        "\n",
        "앞으로 한 스프린트, 한 스프린트씩 반복함에 따라서 점점 더 익숙해 질 것입니다. \n",
        "\n",
        "---\n",
        "\n",
        "여러분의 오늘 오후를 위한 과제는 GitHub 저장소의 *다른* 노트북 파일을 통해서 확인 할 수 있습니다. \n",
        "\n",
        "다른 [UCI 머신러닝 저장소](https://archive.ics.uci.edu/ml/index.php)의 데이터셋을 선택하여 오늘 학습 했던 내용들을 반복하시길 바랍니다. \n",
        "\n",
        "만약 시작하는 것이 정말 정말 어렵다면, \"Most Popular\"로 표기된 데이터셋을 사용하는 것이 도움이 될 수 있습니다. \n",
        "\n",
        "과제에 있어서 특정 데이터셋을 지정하지 **않는** 이유는, 여러분의 한계를 정하는것을 방지하기 위함입니다. \n",
        "\n",
        "일반적인 교육은 특정 문제에 대해서 정해진 답이 있기를 기대하지만 이는 데이터 사이언스에서는 굉장히 드문 경우입니다. \n",
        "\n",
        "우리가 행하는 모든 선택에 있어서 각각의 장단점이 있으며, 코스의 첫번째 유닛을 학습하는 동안 데이터에 정해지지 않는 방식으로 **접근** 하는 것을 여러분에게 더욱 익숙하게 하기 위해서 저희는 최선을 다할 것입니다. \n",
        "\n",
        "그리고 여러분의 과제를 위해 데이터셋을 선택하는 것은 이에 해당하는 기념비적인 첫선택이죠.\n"
      ]
    },
    {
      "cell_type": "code",
      "metadata": {
        "id": "kDTUln5Y4-EP"
      },
      "source": [
        ""
      ],
      "execution_count": null,
      "outputs": []
    }
  ]
}