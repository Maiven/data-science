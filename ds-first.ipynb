from IPython.display import Image
from IPython.core.display import HTML 
Image(url= "https://user-images.githubusercontent.com/10266436/95828027-68759780-0d6f-11eb-93a1-9ac5da954a3e.jpg")
